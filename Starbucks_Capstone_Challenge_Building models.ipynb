{
 "cells": [
  {
   "cell_type": "markdown",
   "metadata": {},
   "source": [
    "# Second step: Modeling performance\n",
    "\n",
    "Once we have the prepared data, first of all we will calculate the ranking of offers by succes percentage, second and the main goal, we will build differents binary classification models based on offer_successfull target/class to determine if, for a kind of membership based on your demographic and own features, will be a good or bad offer.\n",
    "\n",
    "- [Brief dataset exploration](#Brief-dataset-exploration)\n",
    "- [Calculate the offer success percentage ](#Calculate-the-offer-success-percentage)\n",
    "- [Model building](#Model-building)\n",
    "- [Compare models and performance evaluation](#Compare-models-and-performance-evaluation)\n",
    "- [Conclusions](#Conclusions)\n",
    "\n"
   ]
  },
  {
   "cell_type": "code",
   "execution_count": 7,
   "metadata": {},
   "outputs": [],
   "source": [
    "# Import libs\n",
    "import pandas as pd\n",
    "import numpy as np\n",
    "import math\n",
    "import json\n",
    "import re\n",
    "from datetime import datetime\n",
    "import seaborn as sns\n",
    "import progressbar\n",
    "from matplotlib import pyplot as plt\n",
    "\n",
    "from scipy import stats\n",
    "from sklearn.svm import SVC as svc \n",
    "from sklearn.ensemble import GradientBoostingClassifier, RandomForestClassifier\n",
    "from sklearn.linear_model import LogisticRegression\n",
    "from sklearn.model_selection import train_test_split\n",
    "from sklearn.metrics import roc_curve, auc, confusion_matrix, precision_score, recall_score\n",
    "from sklearn.metrics import accuracy_score, f1_score, fbeta_score, make_scorer\n",
    "from sklearn.preprocessing import MinMaxScaler\n",
    "from sklearn.model_selection import GridSearchCV, RandomizedSearchCV\n",
    "\n",
    "%matplotlib inline"
   ]
  },
  {
   "cell_type": "code",
   "execution_count": 8,
   "metadata": {},
   "outputs": [],
   "source": [
    "# load datasets\n",
    "combined_data = pd.read_csv('data/combined_data.csv')\n",
    "portfolio_cleaned = pd.read_csv('data/portfolio_cleaned.csv')"
   ]
  },
  {
   "cell_type": "markdown",
   "metadata": {},
   "source": [
    "## Combined Dataset exploration"
   ]
  },
  {
   "cell_type": "code",
   "execution_count": 9,
   "metadata": {},
   "outputs": [
    {
     "data": {
      "text/html": [
       "<div>\n",
       "<style scoped>\n",
       "    .dataframe tbody tr th:only-of-type {\n",
       "        vertical-align: middle;\n",
       "    }\n",
       "\n",
       "    .dataframe tbody tr th {\n",
       "        vertical-align: top;\n",
       "    }\n",
       "\n",
       "    .dataframe thead th {\n",
       "        text-align: right;\n",
       "    }\n",
       "</style>\n",
       "<table border=\"1\" class=\"dataframe\">\n",
       "  <thead>\n",
       "    <tr style=\"text-align: right;\">\n",
       "      <th></th>\n",
       "      <th>offer_id</th>\n",
       "      <th>customer_id</th>\n",
       "      <th>time_in_days</th>\n",
       "      <th>total_amount</th>\n",
       "      <th>offer_successful</th>\n",
       "      <th>reward</th>\n",
       "      <th>difficulty</th>\n",
       "      <th>duration</th>\n",
       "      <th>channel_email</th>\n",
       "      <th>channel_mobile</th>\n",
       "      <th>...</th>\n",
       "      <th>age_(10, 20]</th>\n",
       "      <th>age_(20, 30]</th>\n",
       "      <th>age_(30, 40]</th>\n",
       "      <th>age_(40, 50]</th>\n",
       "      <th>age_(50, 60]</th>\n",
       "      <th>age_(60, 70]</th>\n",
       "      <th>age_(70, 80]</th>\n",
       "      <th>age_(80, 90]</th>\n",
       "      <th>age_(90, 100]</th>\n",
       "      <th>age_(100, 110]</th>\n",
       "    </tr>\n",
       "  </thead>\n",
       "  <tbody>\n",
       "    <tr>\n",
       "      <th>0</th>\n",
       "      <td>9b98b8c7a33c4b65b9aebfe6a799e6d9</td>\n",
       "      <td>0610b486422d4921ae7d2bf64640c50b</td>\n",
       "      <td>17.0</td>\n",
       "      <td>23.22</td>\n",
       "      <td>0</td>\n",
       "      <td>5</td>\n",
       "      <td>5</td>\n",
       "      <td>7</td>\n",
       "      <td>1</td>\n",
       "      <td>1</td>\n",
       "      <td>...</td>\n",
       "      <td>0</td>\n",
       "      <td>0</td>\n",
       "      <td>0</td>\n",
       "      <td>0</td>\n",
       "      <td>1</td>\n",
       "      <td>0</td>\n",
       "      <td>0</td>\n",
       "      <td>0</td>\n",
       "      <td>0</td>\n",
       "      <td>0</td>\n",
       "    </tr>\n",
       "    <tr>\n",
       "      <th>1</th>\n",
       "      <td>3f207df678b143eea3cee63160fa8bed</td>\n",
       "      <td>0610b486422d4921ae7d2bf64640c50b</td>\n",
       "      <td>21.0</td>\n",
       "      <td>23.22</td>\n",
       "      <td>0</td>\n",
       "      <td>0</td>\n",
       "      <td>0</td>\n",
       "      <td>4</td>\n",
       "      <td>1</td>\n",
       "      <td>1</td>\n",
       "      <td>...</td>\n",
       "      <td>0</td>\n",
       "      <td>0</td>\n",
       "      <td>0</td>\n",
       "      <td>0</td>\n",
       "      <td>1</td>\n",
       "      <td>0</td>\n",
       "      <td>0</td>\n",
       "      <td>0</td>\n",
       "      <td>0</td>\n",
       "      <td>0</td>\n",
       "    </tr>\n",
       "    <tr>\n",
       "      <th>2</th>\n",
       "      <td>9b98b8c7a33c4b65b9aebfe6a799e6d9</td>\n",
       "      <td>78afa995795e4d85b5d9ceeca43f5fef</td>\n",
       "      <td>0.0</td>\n",
       "      <td>37.67</td>\n",
       "      <td>1</td>\n",
       "      <td>5</td>\n",
       "      <td>5</td>\n",
       "      <td>7</td>\n",
       "      <td>1</td>\n",
       "      <td>1</td>\n",
       "      <td>...</td>\n",
       "      <td>0</td>\n",
       "      <td>0</td>\n",
       "      <td>0</td>\n",
       "      <td>0</td>\n",
       "      <td>0</td>\n",
       "      <td>0</td>\n",
       "      <td>1</td>\n",
       "      <td>0</td>\n",
       "      <td>0</td>\n",
       "      <td>0</td>\n",
       "    </tr>\n",
       "    <tr>\n",
       "      <th>3</th>\n",
       "      <td>5a8bc65990b245e5a138643cd4eb9837</td>\n",
       "      <td>78afa995795e4d85b5d9ceeca43f5fef</td>\n",
       "      <td>7.0</td>\n",
       "      <td>49.39</td>\n",
       "      <td>0</td>\n",
       "      <td>0</td>\n",
       "      <td>0</td>\n",
       "      <td>3</td>\n",
       "      <td>1</td>\n",
       "      <td>1</td>\n",
       "      <td>...</td>\n",
       "      <td>0</td>\n",
       "      <td>0</td>\n",
       "      <td>0</td>\n",
       "      <td>0</td>\n",
       "      <td>0</td>\n",
       "      <td>0</td>\n",
       "      <td>1</td>\n",
       "      <td>0</td>\n",
       "      <td>0</td>\n",
       "      <td>0</td>\n",
       "    </tr>\n",
       "    <tr>\n",
       "      <th>4</th>\n",
       "      <td>ae264e3637204a6fb9bb56bc8210ddfd</td>\n",
       "      <td>78afa995795e4d85b5d9ceeca43f5fef</td>\n",
       "      <td>17.0</td>\n",
       "      <td>48.28</td>\n",
       "      <td>1</td>\n",
       "      <td>10</td>\n",
       "      <td>10</td>\n",
       "      <td>7</td>\n",
       "      <td>1</td>\n",
       "      <td>1</td>\n",
       "      <td>...</td>\n",
       "      <td>0</td>\n",
       "      <td>0</td>\n",
       "      <td>0</td>\n",
       "      <td>0</td>\n",
       "      <td>0</td>\n",
       "      <td>0</td>\n",
       "      <td>1</td>\n",
       "      <td>0</td>\n",
       "      <td>0</td>\n",
       "      <td>0</td>\n",
       "    </tr>\n",
       "  </tbody>\n",
       "</table>\n",
       "<p>5 rows × 34 columns</p>\n",
       "</div>"
      ],
      "text/plain": [
       "                           offer_id                       customer_id  \\\n",
       "0  9b98b8c7a33c4b65b9aebfe6a799e6d9  0610b486422d4921ae7d2bf64640c50b   \n",
       "1  3f207df678b143eea3cee63160fa8bed  0610b486422d4921ae7d2bf64640c50b   \n",
       "2  9b98b8c7a33c4b65b9aebfe6a799e6d9  78afa995795e4d85b5d9ceeca43f5fef   \n",
       "3  5a8bc65990b245e5a138643cd4eb9837  78afa995795e4d85b5d9ceeca43f5fef   \n",
       "4  ae264e3637204a6fb9bb56bc8210ddfd  78afa995795e4d85b5d9ceeca43f5fef   \n",
       "\n",
       "   time_in_days  total_amount  offer_successful  reward  difficulty  duration  \\\n",
       "0          17.0         23.22                 0       5           5         7   \n",
       "1          21.0         23.22                 0       0           0         4   \n",
       "2           0.0         37.67                 1       5           5         7   \n",
       "3           7.0         49.39                 0       0           0         3   \n",
       "4          17.0         48.28                 1      10          10         7   \n",
       "\n",
       "   channel_email  channel_mobile  ...  age_(10, 20]  age_(20, 30]  \\\n",
       "0              1               1  ...             0             0   \n",
       "1              1               1  ...             0             0   \n",
       "2              1               1  ...             0             0   \n",
       "3              1               1  ...             0             0   \n",
       "4              1               1  ...             0             0   \n",
       "\n",
       "   age_(30, 40]  age_(40, 50]  age_(50, 60]  age_(60, 70]  age_(70, 80]  \\\n",
       "0             0             0             1             0             0   \n",
       "1             0             0             1             0             0   \n",
       "2             0             0             0             0             1   \n",
       "3             0             0             0             0             1   \n",
       "4             0             0             0             0             1   \n",
       "\n",
       "   age_(80, 90]  age_(90, 100]  age_(100, 110]  \n",
       "0             0              0               0  \n",
       "1             0              0               0  \n",
       "2             0              0               0  \n",
       "3             0              0               0  \n",
       "4             0              0               0  \n",
       "\n",
       "[5 rows x 34 columns]"
      ]
     },
     "execution_count": 9,
     "metadata": {},
     "output_type": "execute_result"
    }
   ],
   "source": [
    "# Show combined data\n",
    "combined_data.head()"
   ]
  },
  {
   "cell_type": "code",
   "execution_count": 10,
   "metadata": {},
   "outputs": [
    {
     "data": {
      "text/plain": [
       "(66501, 34)"
      ]
     },
     "execution_count": 10,
     "metadata": {},
     "output_type": "execute_result"
    }
   ],
   "source": [
    "combined_data.shape"
   ]
  },
  {
   "cell_type": "code",
   "execution_count": 11,
   "metadata": {},
   "outputs": [
    {
     "data": {
      "text/plain": [
       "Index(['offer_id', 'customer_id', 'time_in_days', 'total_amount',\n",
       "       'offer_successful', 'reward', 'difficulty', 'duration', 'channel_email',\n",
       "       'channel_mobile', 'channel_social', 'channel_web', 'bogo', 'discount',\n",
       "       'informational', 'age', 'income', 'year', 'month', 'day', 'gender_F',\n",
       "       'gender_M', 'gender_O', 'age_(0, 10]', 'age_(10, 20]', 'age_(20, 30]',\n",
       "       'age_(30, 40]', 'age_(40, 50]', 'age_(50, 60]', 'age_(60, 70]',\n",
       "       'age_(70, 80]', 'age_(80, 90]', 'age_(90, 100]', 'age_(100, 110]'],\n",
       "      dtype='object')"
      ]
     },
     "execution_count": 11,
     "metadata": {},
     "output_type": "execute_result"
    }
   ],
   "source": [
    "combined_data.columns"
   ]
  },
  {
   "cell_type": "code",
   "execution_count": 12,
   "metadata": {},
   "outputs": [
    {
     "data": {
      "text/html": [
       "<div>\n",
       "<style scoped>\n",
       "    .dataframe tbody tr th:only-of-type {\n",
       "        vertical-align: middle;\n",
       "    }\n",
       "\n",
       "    .dataframe tbody tr th {\n",
       "        vertical-align: top;\n",
       "    }\n",
       "\n",
       "    .dataframe thead th {\n",
       "        text-align: right;\n",
       "    }\n",
       "</style>\n",
       "<table border=\"1\" class=\"dataframe\">\n",
       "  <thead>\n",
       "    <tr style=\"text-align: right;\">\n",
       "      <th></th>\n",
       "      <th>reward</th>\n",
       "      <th>difficulty</th>\n",
       "      <th>duration</th>\n",
       "      <th>offer_id</th>\n",
       "      <th>channel_email</th>\n",
       "      <th>channel_mobile</th>\n",
       "      <th>channel_social</th>\n",
       "      <th>channel_web</th>\n",
       "      <th>bogo</th>\n",
       "      <th>discount</th>\n",
       "      <th>informational</th>\n",
       "    </tr>\n",
       "  </thead>\n",
       "  <tbody>\n",
       "    <tr>\n",
       "      <th>0</th>\n",
       "      <td>10</td>\n",
       "      <td>10</td>\n",
       "      <td>7</td>\n",
       "      <td>ae264e3637204a6fb9bb56bc8210ddfd</td>\n",
       "      <td>1</td>\n",
       "      <td>1</td>\n",
       "      <td>1</td>\n",
       "      <td>0</td>\n",
       "      <td>1</td>\n",
       "      <td>0</td>\n",
       "      <td>0</td>\n",
       "    </tr>\n",
       "    <tr>\n",
       "      <th>1</th>\n",
       "      <td>10</td>\n",
       "      <td>10</td>\n",
       "      <td>5</td>\n",
       "      <td>4d5c57ea9a6940dd891ad53e9dbe8da0</td>\n",
       "      <td>1</td>\n",
       "      <td>1</td>\n",
       "      <td>1</td>\n",
       "      <td>1</td>\n",
       "      <td>1</td>\n",
       "      <td>0</td>\n",
       "      <td>0</td>\n",
       "    </tr>\n",
       "    <tr>\n",
       "      <th>2</th>\n",
       "      <td>0</td>\n",
       "      <td>0</td>\n",
       "      <td>4</td>\n",
       "      <td>3f207df678b143eea3cee63160fa8bed</td>\n",
       "      <td>1</td>\n",
       "      <td>1</td>\n",
       "      <td>0</td>\n",
       "      <td>1</td>\n",
       "      <td>0</td>\n",
       "      <td>0</td>\n",
       "      <td>1</td>\n",
       "    </tr>\n",
       "    <tr>\n",
       "      <th>3</th>\n",
       "      <td>5</td>\n",
       "      <td>5</td>\n",
       "      <td>7</td>\n",
       "      <td>9b98b8c7a33c4b65b9aebfe6a799e6d9</td>\n",
       "      <td>1</td>\n",
       "      <td>1</td>\n",
       "      <td>0</td>\n",
       "      <td>1</td>\n",
       "      <td>1</td>\n",
       "      <td>0</td>\n",
       "      <td>0</td>\n",
       "    </tr>\n",
       "    <tr>\n",
       "      <th>4</th>\n",
       "      <td>5</td>\n",
       "      <td>20</td>\n",
       "      <td>10</td>\n",
       "      <td>0b1e1539f2cc45b7b9fa7c272da2e1d7</td>\n",
       "      <td>1</td>\n",
       "      <td>0</td>\n",
       "      <td>0</td>\n",
       "      <td>1</td>\n",
       "      <td>0</td>\n",
       "      <td>1</td>\n",
       "      <td>0</td>\n",
       "    </tr>\n",
       "  </tbody>\n",
       "</table>\n",
       "</div>"
      ],
      "text/plain": [
       "   reward  difficulty  duration                          offer_id  \\\n",
       "0      10          10         7  ae264e3637204a6fb9bb56bc8210ddfd   \n",
       "1      10          10         5  4d5c57ea9a6940dd891ad53e9dbe8da0   \n",
       "2       0           0         4  3f207df678b143eea3cee63160fa8bed   \n",
       "3       5           5         7  9b98b8c7a33c4b65b9aebfe6a799e6d9   \n",
       "4       5          20        10  0b1e1539f2cc45b7b9fa7c272da2e1d7   \n",
       "\n",
       "   channel_email  channel_mobile  channel_social  channel_web  bogo  discount  \\\n",
       "0              1               1               1            0     1         0   \n",
       "1              1               1               1            1     1         0   \n",
       "2              1               1               0            1     0         0   \n",
       "3              1               1               0            1     1         0   \n",
       "4              1               0               0            1     0         1   \n",
       "\n",
       "   informational  \n",
       "0              0  \n",
       "1              0  \n",
       "2              1  \n",
       "3              0  \n",
       "4              0  "
      ]
     },
     "execution_count": 12,
     "metadata": {},
     "output_type": "execute_result"
    }
   ],
   "source": [
    "portfolio_cleaned.head()"
   ]
  },
  {
   "cell_type": "code",
   "execution_count": 13,
   "metadata": {},
   "outputs": [
    {
     "data": {
      "text/plain": [
       "Index(['reward', 'difficulty', 'duration', 'offer_id', 'channel_email',\n",
       "       'channel_mobile', 'channel_social', 'channel_web', 'bogo', 'discount',\n",
       "       'informational'],\n",
       "      dtype='object')"
      ]
     },
     "execution_count": 13,
     "metadata": {},
     "output_type": "execute_result"
    }
   ],
   "source": [
    "portfolio_cleaned.columns"
   ]
  },
  {
   "cell_type": "markdown",
   "metadata": {},
   "source": [
    "## Calculate the offer success percentage "
   ]
  },
  {
   "cell_type": "markdown",
   "metadata": {},
   "source": [
    "In order to have an idea about the acceptation of every offer we'd have to calculate their succesful percentage."
   ]
  },
  {
   "cell_type": "code",
   "execution_count": 14,
   "metadata": {},
   "outputs": [],
   "source": [
    "# Get the success percentage of every offers\n",
    "def get_success_percentage_df(df1, df2):\n",
    "    \n",
    "    '''\n",
    "    INPUT \n",
    "        df1 - combined data dataset\n",
    "        df2 - cleaned portfolio dataset\n",
    "    OUTPUT\n",
    "        Displays a ranking of successful offers by percentage \n",
    "    '''\n",
    "    \n",
    "    #get success and offer counts\n",
    "    success_count = df1[['offer_id', 'offer_successful']].groupby(\n",
    "        'offer_id').sum().reset_index()\n",
    "\n",
    "    offer_count = df1['offer_id'].value_counts()\n",
    "\n",
    "    offer_count = pd.DataFrame(list(zip(offer_count.index.values,\n",
    "                                        offer_count.values)),\n",
    "                               columns=['offer_id', 'count'])\n",
    "\n",
    "    success_count = success_count.sort_values('offer_id')\n",
    "\n",
    "    offer_count = offer_count.sort_values('offer_id')\n",
    "\n",
    "    # Merge offer and success count on offer_id\n",
    "    offer_success_tax = pd.merge(offer_count, success_count, on=\"offer_id\")\n",
    "\n",
    "    # calculate success percentage\n",
    "    offer_success_tax['success_percentage'] = (100 * offer_success_tax['offer_successful'] \n",
    "                                                   / offer_success_tax['count'])\n",
    "\n",
    "    # Merge offer_success_tax and cleaned portfolio dataset on offer_id\n",
    "    offer_success_tax = pd.merge(offer_success_tax, df2, on=\"offer_id\")\n",
    "\n",
    "    # Drop offer_successful column \n",
    "    offer_success_tax.drop(columns=['offer_successful'], inplace = True)\n",
    "\n",
    "    # Sort by success_percentage column\n",
    "    offer_success_tax.sort_values('success_percentage', ascending=False, inplace= True)\n",
    "\n",
    "    # return offer success tax data\n",
    "    return offer_success_tax.reset_index(drop=True)"
   ]
  },
  {
   "cell_type": "code",
   "execution_count": 15,
   "metadata": {},
   "outputs": [],
   "source": [
    "# Get the offer success tax dataframe\n",
    "offer_success_tax_df = get_success_percentage_df(combined_data, portfolio_cleaned)"
   ]
  },
  {
   "cell_type": "code",
   "execution_count": 16,
   "metadata": {},
   "outputs": [
    {
     "data": {
      "text/html": [
       "<div>\n",
       "<style scoped>\n",
       "    .dataframe tbody tr th:only-of-type {\n",
       "        vertical-align: middle;\n",
       "    }\n",
       "\n",
       "    .dataframe tbody tr th {\n",
       "        vertical-align: top;\n",
       "    }\n",
       "\n",
       "    .dataframe thead th {\n",
       "        text-align: right;\n",
       "    }\n",
       "</style>\n",
       "<table border=\"1\" class=\"dataframe\">\n",
       "  <thead>\n",
       "    <tr style=\"text-align: right;\">\n",
       "      <th></th>\n",
       "      <th>offer_id</th>\n",
       "      <th>count</th>\n",
       "      <th>success_percentage</th>\n",
       "      <th>reward</th>\n",
       "      <th>difficulty</th>\n",
       "      <th>duration</th>\n",
       "      <th>channel_email</th>\n",
       "      <th>channel_mobile</th>\n",
       "      <th>channel_social</th>\n",
       "      <th>channel_web</th>\n",
       "      <th>bogo</th>\n",
       "      <th>discount</th>\n",
       "      <th>informational</th>\n",
       "    </tr>\n",
       "  </thead>\n",
       "  <tbody>\n",
       "    <tr>\n",
       "      <th>0</th>\n",
       "      <td>fafdcd668e3743c1bb461111dcafc2a4</td>\n",
       "      <td>6652</td>\n",
       "      <td>75.285628</td>\n",
       "      <td>2</td>\n",
       "      <td>10</td>\n",
       "      <td>10</td>\n",
       "      <td>1</td>\n",
       "      <td>1</td>\n",
       "      <td>1</td>\n",
       "      <td>1</td>\n",
       "      <td>0</td>\n",
       "      <td>1</td>\n",
       "      <td>0</td>\n",
       "    </tr>\n",
       "    <tr>\n",
       "      <th>1</th>\n",
       "      <td>2298d6c36e964ae4a3e7e9706d1fb8c2</td>\n",
       "      <td>6655</td>\n",
       "      <td>72.742299</td>\n",
       "      <td>3</td>\n",
       "      <td>7</td>\n",
       "      <td>7</td>\n",
       "      <td>1</td>\n",
       "      <td>1</td>\n",
       "      <td>1</td>\n",
       "      <td>1</td>\n",
       "      <td>0</td>\n",
       "      <td>1</td>\n",
       "      <td>0</td>\n",
       "    </tr>\n",
       "    <tr>\n",
       "      <th>2</th>\n",
       "      <td>f19421c1d4aa40978ebb69ca19b0e20d</td>\n",
       "      <td>6576</td>\n",
       "      <td>61.618005</td>\n",
       "      <td>5</td>\n",
       "      <td>5</td>\n",
       "      <td>5</td>\n",
       "      <td>1</td>\n",
       "      <td>1</td>\n",
       "      <td>1</td>\n",
       "      <td>1</td>\n",
       "      <td>1</td>\n",
       "      <td>0</td>\n",
       "      <td>0</td>\n",
       "    </tr>\n",
       "    <tr>\n",
       "      <th>3</th>\n",
       "      <td>ae264e3637204a6fb9bb56bc8210ddfd</td>\n",
       "      <td>6683</td>\n",
       "      <td>54.646117</td>\n",
       "      <td>10</td>\n",
       "      <td>10</td>\n",
       "      <td>7</td>\n",
       "      <td>1</td>\n",
       "      <td>1</td>\n",
       "      <td>1</td>\n",
       "      <td>0</td>\n",
       "      <td>1</td>\n",
       "      <td>0</td>\n",
       "      <td>0</td>\n",
       "    </tr>\n",
       "    <tr>\n",
       "      <th>4</th>\n",
       "      <td>4d5c57ea9a6940dd891ad53e9dbe8da0</td>\n",
       "      <td>6593</td>\n",
       "      <td>51.721523</td>\n",
       "      <td>10</td>\n",
       "      <td>10</td>\n",
       "      <td>5</td>\n",
       "      <td>1</td>\n",
       "      <td>1</td>\n",
       "      <td>1</td>\n",
       "      <td>1</td>\n",
       "      <td>1</td>\n",
       "      <td>0</td>\n",
       "      <td>0</td>\n",
       "    </tr>\n",
       "    <tr>\n",
       "      <th>5</th>\n",
       "      <td>9b98b8c7a33c4b65b9aebfe6a799e6d9</td>\n",
       "      <td>6685</td>\n",
       "      <td>48.287210</td>\n",
       "      <td>5</td>\n",
       "      <td>5</td>\n",
       "      <td>7</td>\n",
       "      <td>1</td>\n",
       "      <td>1</td>\n",
       "      <td>0</td>\n",
       "      <td>1</td>\n",
       "      <td>1</td>\n",
       "      <td>0</td>\n",
       "      <td>0</td>\n",
       "    </tr>\n",
       "    <tr>\n",
       "      <th>6</th>\n",
       "      <td>2906b810c7d4411798c6938adc9daaa5</td>\n",
       "      <td>6631</td>\n",
       "      <td>47.730357</td>\n",
       "      <td>2</td>\n",
       "      <td>10</td>\n",
       "      <td>7</td>\n",
       "      <td>1</td>\n",
       "      <td>1</td>\n",
       "      <td>0</td>\n",
       "      <td>1</td>\n",
       "      <td>0</td>\n",
       "      <td>1</td>\n",
       "      <td>0</td>\n",
       "    </tr>\n",
       "    <tr>\n",
       "      <th>7</th>\n",
       "      <td>0b1e1539f2cc45b7b9fa7c272da2e1d7</td>\n",
       "      <td>6726</td>\n",
       "      <td>45.762712</td>\n",
       "      <td>5</td>\n",
       "      <td>20</td>\n",
       "      <td>10</td>\n",
       "      <td>1</td>\n",
       "      <td>0</td>\n",
       "      <td>0</td>\n",
       "      <td>1</td>\n",
       "      <td>0</td>\n",
       "      <td>1</td>\n",
       "      <td>0</td>\n",
       "    </tr>\n",
       "    <tr>\n",
       "      <th>8</th>\n",
       "      <td>3f207df678b143eea3cee63160fa8bed</td>\n",
       "      <td>6657</td>\n",
       "      <td>7.721196</td>\n",
       "      <td>0</td>\n",
       "      <td>0</td>\n",
       "      <td>4</td>\n",
       "      <td>1</td>\n",
       "      <td>1</td>\n",
       "      <td>0</td>\n",
       "      <td>1</td>\n",
       "      <td>0</td>\n",
       "      <td>0</td>\n",
       "      <td>1</td>\n",
       "    </tr>\n",
       "    <tr>\n",
       "      <th>9</th>\n",
       "      <td>5a8bc65990b245e5a138643cd4eb9837</td>\n",
       "      <td>6643</td>\n",
       "      <td>6.277284</td>\n",
       "      <td>0</td>\n",
       "      <td>0</td>\n",
       "      <td>3</td>\n",
       "      <td>1</td>\n",
       "      <td>1</td>\n",
       "      <td>1</td>\n",
       "      <td>0</td>\n",
       "      <td>0</td>\n",
       "      <td>0</td>\n",
       "      <td>1</td>\n",
       "    </tr>\n",
       "  </tbody>\n",
       "</table>\n",
       "</div>"
      ],
      "text/plain": [
       "                           offer_id  count  success_percentage  reward  \\\n",
       "0  fafdcd668e3743c1bb461111dcafc2a4   6652           75.285628       2   \n",
       "1  2298d6c36e964ae4a3e7e9706d1fb8c2   6655           72.742299       3   \n",
       "2  f19421c1d4aa40978ebb69ca19b0e20d   6576           61.618005       5   \n",
       "3  ae264e3637204a6fb9bb56bc8210ddfd   6683           54.646117      10   \n",
       "4  4d5c57ea9a6940dd891ad53e9dbe8da0   6593           51.721523      10   \n",
       "5  9b98b8c7a33c4b65b9aebfe6a799e6d9   6685           48.287210       5   \n",
       "6  2906b810c7d4411798c6938adc9daaa5   6631           47.730357       2   \n",
       "7  0b1e1539f2cc45b7b9fa7c272da2e1d7   6726           45.762712       5   \n",
       "8  3f207df678b143eea3cee63160fa8bed   6657            7.721196       0   \n",
       "9  5a8bc65990b245e5a138643cd4eb9837   6643            6.277284       0   \n",
       "\n",
       "   difficulty  duration  channel_email  channel_mobile  channel_social  \\\n",
       "0          10        10              1               1               1   \n",
       "1           7         7              1               1               1   \n",
       "2           5         5              1               1               1   \n",
       "3          10         7              1               1               1   \n",
       "4          10         5              1               1               1   \n",
       "5           5         7              1               1               0   \n",
       "6          10         7              1               1               0   \n",
       "7          20        10              1               0               0   \n",
       "8           0         4              1               1               0   \n",
       "9           0         3              1               1               1   \n",
       "\n",
       "   channel_web  bogo  discount  informational  \n",
       "0            1     0         1              0  \n",
       "1            1     0         1              0  \n",
       "2            1     1         0              0  \n",
       "3            0     1         0              0  \n",
       "4            1     1         0              0  \n",
       "5            1     1         0              0  \n",
       "6            1     0         1              0  \n",
       "7            1     0         1              0  \n",
       "8            1     0         0              1  \n",
       "9            0     0         0              1  "
      ]
     },
     "execution_count": 16,
     "metadata": {},
     "output_type": "execute_result"
    }
   ],
   "source": [
    "# Show offer success tax dataframe\n",
    "offer_success_tax_df"
   ]
  },
  {
   "cell_type": "markdown",
   "metadata": {},
   "source": [
    "The 2 top successful percentage offers are from discount type with at less 7 days of duration and are promoted by all available channels. \n",
    "The 2 worst successful percentage offers are informational type, without difficulty (0) neither reward (0) and short duration (4 and 3 days)."
   ]
  },
  {
   "cell_type": "code",
   "execution_count": 17,
   "metadata": {},
   "outputs": [
    {
     "data": {
      "text/plain": [
       "Text(0, 0.5, 'Percentage - %')"
      ]
     },
     "execution_count": 17,
     "metadata": {},
     "output_type": "execute_result"
    },
    {
     "data": {
      "image/png": "[encoded data removed]",
      "text/plain": [
       "<Figure size 720x360 with 1 Axes>"
      ]
     },
     "metadata": {
      "needs_background": "light"
     },
     "output_type": "display_data"
    }
   ],
   "source": [
    "# Show barplot visualization \n",
    "fig, ax = plt.subplots(figsize=(10,5))\n",
    "ax = sns.barplot(x=offer_success_tax_df.index, y='success_percentage', data=offer_success_tax_df, palette=\"Blues_d\")\n",
    "ax.set_xticks(np.arange(0,10))\n",
    "ax.set_xlabel('Index offer number')\n",
    "ax.set_ylabel('Percentage - %')"
   ]
  },
  {
   "cell_type": "code",
   "execution_count": 18,
   "metadata": {},
   "outputs": [
    {
     "name": "stdout",
     "output_type": "stream",
     "text": [
      "<class 'pandas.core.frame.DataFrame'>\n",
      "RangeIndex: 66501 entries, 0 to 66500\n",
      "Data columns (total 34 columns):\n",
      " #   Column            Non-Null Count  Dtype  \n",
      "---  ------            --------------  -----  \n",
      " 0   offer_id          66501 non-null  object \n",
      " 1   customer_id       66501 non-null  object \n",
      " 2   time_in_days      66501 non-null  float64\n",
      " 3   total_amount      66501 non-null  float64\n",
      " 4   offer_successful  66501 non-null  int64  \n",
      " 5   reward            66501 non-null  int64  \n",
      " 6   difficulty        66501 non-null  int64  \n",
      " 7   duration          66501 non-null  int64  \n",
      " 8   channel_email     66501 non-null  int64  \n",
      " 9   channel_mobile    66501 non-null  int64  \n",
      " 10  channel_social    66501 non-null  int64  \n",
      " 11  channel_web       66501 non-null  int64  \n",
      " 12  bogo              66501 non-null  int64  \n",
      " 13  discount          66501 non-null  int64  \n",
      " 14  informational     66501 non-null  int64  \n",
      " 15  age               66501 non-null  int64  \n",
      " 16  income            66501 non-null  float64\n",
      " 17  year              66501 non-null  int64  \n",
      " 18  month             66501 non-null  int64  \n",
      " 19  day               66501 non-null  int64  \n",
      " 20  gender_F          66501 non-null  int64  \n",
      " 21  gender_M          66501 non-null  int64  \n",
      " 22  gender_O          66501 non-null  int64  \n",
      " 23  age_(0, 10]       66501 non-null  int64  \n",
      " 24  age_(10, 20]      66501 non-null  int64  \n",
      " 25  age_(20, 30]      66501 non-null  int64  \n",
      " 26  age_(30, 40]      66501 non-null  int64  \n",
      " 27  age_(40, 50]      66501 non-null  int64  \n",
      " 28  age_(50, 60]      66501 non-null  int64  \n",
      " 29  age_(60, 70]      66501 non-null  int64  \n",
      " 30  age_(70, 80]      66501 non-null  int64  \n",
      " 31  age_(80, 90]      66501 non-null  int64  \n",
      " 32  age_(90, 100]     66501 non-null  int64  \n",
      " 33  age_(100, 110]    66501 non-null  int64  \n",
      "dtypes: float64(3), int64(29), object(2)\n",
      "memory usage: 17.3+ MB\n"
     ]
    }
   ],
   "source": [
    "# Show combined data info\n",
    "combined_data.info()"
   ]
  },
  {
   "cell_type": "markdown",
   "metadata": {},
   "source": [
    "## Model building"
   ]
  },
  {
   "cell_type": "markdown",
   "metadata": {},
   "source": [
    "In this section i have built 3 different classifiers and evaluated their performance:\n",
    "\n",
    "- [Logistic Regression](#Logistic-Regression)\n",
    "- [Gradient Boosting](#Gradient-Boosting)\n",
    "- [Random Forest](#Random-Forest)\n",
    "\n",
    "After that, in order to visualize the performance of the multi-class classification problem, i will use AUC (Area Under The Curve) ROC (Receiver Operating Characteristics) curve explained, in more detail later."
   ]
  },
  {
   "cell_type": "code",
   "execution_count": 19,
   "metadata": {},
   "outputs": [],
   "source": [
    "def calculate_test_and_train(features, target, test_size, scaler = False):\n",
    "    '''\n",
    "    INPUT \n",
    "        features - features dataset\n",
    "        target - target / class feature dataset\n",
    "        test_size - split test size percentage\n",
    "        scaler - if True applies MinMaxScaler function. False by default\n",
    "        \n",
    "    OUTPUT\n",
    "        Returns train and test splits\n",
    "    '''\n",
    "    # split data into train and test sets\n",
    "    X_train, X_test, y_train, y_test = train_test_split(features.values, target.values, test_size=test_size, random_state=42)\n",
    "    \n",
    "    if (scaler):\n",
    "        scaler = MinMaxScaler()\n",
    "        #transform data\n",
    "        X_train = scaler.fit_transform(X_train)\n",
    "\n",
    "    # convert train and test labels to array\n",
    "    y_train = y_train.ravel()\n",
    "    y_test = y_test.ravel()\n",
    "    \n",
    "    return X_train, X_test, y_train, y_test"
   ]
  },
  {
   "cell_type": "code",
   "execution_count": 20,
   "metadata": {},
   "outputs": [],
   "source": [
    "def build_model(algorithm, grid_params, scorer, X_train, y_train):\n",
    "    '''\n",
    "    Apply RandomizedSearchCV and build the model algorithm with the passed parameters.\n",
    "    \n",
    "    INPUT \n",
    "        algorithm - algorithm used to create a model\n",
    "        grid_params - set of grid params\n",
    "        scorer - scorer\n",
    "        X_train - train matrix of features\n",
    "        y_train - train array of the class feature\n",
    "        \n",
    "    OUTPUT\n",
    "        Return the fitted model\n",
    "    '''\n",
    "    lr_random = RandomizedSearchCV(\n",
    "        estimator = algorithm, \n",
    "        \n",
    "        param_distributions = grid_params, \n",
    "        scoring=scorer, \n",
    "        n_iter = 12, \n",
    "        cv = 3, \n",
    "        verbose=2, \n",
    "        random_state=42, \n",
    "        n_jobs = 3)\n",
    "\n",
    "    # fit train data to the model\n",
    "    lr_random.fit(X_train, y_train)\n",
    "    \n",
    "    return lr_random"
   ]
  },
  {
   "cell_type": "code",
   "execution_count": 21,
   "metadata": {},
   "outputs": [],
   "source": [
    "# Support function get class classifier name\n",
    "def get_class_name(clf):\n",
    "    \n",
    "    class_name = re.sub(\"[<>']\", '', str(clf.__class__))\n",
    "    class_name = class_name.split(' ')[1]\n",
    "    class_name = class_name.split('.')[-1]\n",
    "    \n",
    "    return class_name"
   ]
  },
  {
   "cell_type": "code",
   "execution_count": 22,
   "metadata": {},
   "outputs": [],
   "source": [
    "# Calculate and show model metrics on demand\n",
    "def show_model_metrics(clf, X_test, y_test, full_outcome = True):\n",
    "    '''\n",
    "    Show the main metrics of the model\n",
    "    \n",
    "    INPUT \n",
    "        clf - classifier model \n",
    "        X_test - test features matrix\n",
    "        y_test - test target feature array\n",
    "        full_outcome - if True returns the full metrics outcome\n",
    "    OUTPUT\n",
    "        Return model metrics\n",
    "    '''\n",
    "    class_name = get_class_name(clf)\n",
    "\n",
    "    y_pred_rf = clf.predict(X_test)\n",
    "\n",
    "    clf_accuracy = accuracy_score(y_test, y_pred_rf)\n",
    "    clf_f1_score = f1_score(y_test, y_pred_rf)\n",
    "    \n",
    "    precision = precision_score(y_test, y_pred_rf)\n",
    "    # recall: tp / (tp + fn)\n",
    "    recall = recall_score(y_test, y_pred_rf)\n",
    "    \n",
    "    if( full_outcome == True):\n",
    "        print(\"%s model accuracy: %.3f\" % (class_name, clf_accuracy))\n",
    "        print(\"%s model f1-score: %.3f\" % (class_name, clf_f1_score))\n",
    "        print(\"%s model precision: %.3f\" % (class_name, precision))\n",
    "        print(\"%s model recall: %.3f\" % (class_name, recall))\n",
    "\n",
    "        # sns.heatmap(evaluate_confussion_matrix(clf, X_train, y_train), annot=True)\n",
    "        sns.heatmap(confusion_matrix(y_test, y_pred_rf), annot=True, fmt=\"d\", cmap='Blues', square=True)\n",
    "        plt.show()\n",
    "    \n",
    "    \n",
    "    #false_positive_rate1, true_positive_rate1, threshold1 = roc_curve(y_test, y_score1)\n",
    "    \n",
    "    return clf_accuracy, clf_f1_score, y_pred_rf"
   ]
  },
  {
   "cell_type": "code",
   "execution_count": 23,
   "metadata": {},
   "outputs": [],
   "source": [
    "# Calculate AUC-ROC curve and show a visualization\n",
    "def show_roc_auc(algorithm_name, y_test, predicted):\n",
    "    '''\n",
    "    Display the ROC visualization\n",
    "    \n",
    "    INPUT \n",
    "        clf - classifier model \n",
    "        X_test - test features matrix\n",
    "        predicted - targets predicted by the clf\n",
    "        \n",
    "    OUTPUT\n",
    "        ROC plot visualization\n",
    "    '''\n",
    "    \n",
    "    # Calculate AUC-ROC measure\n",
    "    fpr, tpr, thresholds = roc_curve(y_test, predicted)\n",
    "    roc_auc = auc(fpr, tpr)\n",
    "    performance_auc[algorithm_name] = roc_auc\n",
    "\n",
    "    # Show AUC-ROC visualization\n",
    "    plt.figure()\n",
    "    lw = 2\n",
    "    plt.plot(fpr, tpr, color='darkorange', lw=lw, label='ROC curve (area = %0.2f)' % roc_auc)\n",
    "    plt.plot([0, 1], [0, 1], color='navy', lw=lw, linestyle='--')\n",
    "    plt.xlim([0.0, 1.0])\n",
    "    plt.ylim([0.0, 1.05])\n",
    "    plt.xlabel('False Positive Rate')\n",
    "    plt.ylabel('True Positive Rate')\n",
    "    plt.title('Receiver operating characteristic example')\n",
    "    plt.legend(loc=\"lower right\")\n",
    "    plt.show()"
   ]
  },
  {
   "cell_type": "code",
   "execution_count": 24,
   "metadata": {},
   "outputs": [],
   "source": [
    "# Initialize performance array\n",
    "performance_auc = {}\n",
    "\n",
    "# get an scorer\n",
    "scorer = make_scorer(fbeta_score, beta=0.5)"
   ]
  },
  {
   "cell_type": "code",
   "execution_count": 25,
   "metadata": {},
   "outputs": [],
   "source": [
    "# Prepare features and target\n",
    "combined_data.drop(columns=['customer_id', 'offer_id', 'total_amount', 'month', 'day'], inplace=True)\n",
    "\n",
    "class_label_name = 'offer_successful'\n",
    "\n",
    "split_val =  0.3\n",
    "\n",
    "features = combined_data.drop(columns=[class_label_name])\n",
    "target = combined_data.filter([class_label_name])\n",
    "\n",
    "# get test and train \n",
    "X_train, X_test, y_train, y_test = calculate_test_and_train(features, target, split_val)"
   ]
  },
  {
   "cell_type": "markdown",
   "metadata": {},
   "source": [
    "### Logistic Regression"
   ]
  },
  {
   "cell_type": "code",
   "execution_count": 26,
   "metadata": {},
   "outputs": [
    {
     "name": "stdout",
     "output_type": "stream",
     "text": [
      "Fitting 3 folds for each of 12 candidates, totalling 36 fits\n"
     ]
    },
    {
     "name": "stderr",
     "output_type": "stream",
     "text": [
      "[Parallel(n_jobs=3)]: Using backend LokyBackend with 3 concurrent workers.\n",
      "[Parallel(n_jobs=3)]: Done  36 out of  36 | elapsed:  3.0min finished\n"
     ]
    }
   ],
   "source": [
    "# construct a params dict to tune the model\n",
    "grid_params = {\n",
    "    'penalty': ['l1', 'l2'],\n",
    "    'C': [0.001, 0.01, 0.1, 1, 10, 100, 1000]}\n",
    "\n",
    "# instantiate a logistic regression classifer object\n",
    "log_reg = LogisticRegression(random_state=42, solver='liblinear')\n",
    "\n",
    "# Build the logistic regression model\n",
    "log_reg_random = build_model(log_reg, grid_params, scorer, X_train, y_train)"
   ]
  },
  {
   "cell_type": "code",
   "execution_count": 27,
   "metadata": {},
   "outputs": [
    {
     "data": {
      "text/plain": [
       "LogisticRegression(C=0.01, class_weight=None, dual=False, fit_intercept=True,\n",
       "                   intercept_scaling=1, l1_ratio=None, max_iter=100,\n",
       "                   multi_class='auto', n_jobs=None, penalty='l1',\n",
       "                   random_state=42, solver='liblinear', tol=0.0001, verbose=0,\n",
       "                   warm_start=False)"
      ]
     },
     "execution_count": 27,
     "metadata": {},
     "output_type": "execute_result"
    }
   ],
   "source": [
    "log_reg_random.best_estimator_"
   ]
  },
  {
   "cell_type": "code",
   "execution_count": 28,
   "metadata": {},
   "outputs": [
    {
     "name": "stdout",
     "output_type": "stream",
     "text": [
      "LogisticRegression model accuracy: 0.699\n",
      "LogisticRegression model f1-score: 0.695\n",
      "LogisticRegression model precision: 0.667\n",
      "LogisticRegression model recall: 0.725\n"
     ]
    },
    {
     "data": {
      "image/png": "[encoded data removed]",
      "text/plain": [
       "<Figure size 432x288 with 2 Axes>"
      ]
     },
     "metadata": {
      "needs_background": "light"
     },
     "output_type": "display_data"
    }
   ],
   "source": [
    "# evaluate logistic regression model's performance\n",
    "x, y, pred_lr = show_model_metrics(log_reg_random.best_estimator_, X_test, y_test)"
   ]
  },
  {
   "cell_type": "code",
   "execution_count": 29,
   "metadata": {},
   "outputs": [
    {
     "data": {
      "image/png": "[encoded data removed]",
      "text/plain": [
       "<Figure size 432x288 with 1 Axes>"
      ]
     },
     "metadata": {
      "needs_background": "light"
     },
     "output_type": "display_data"
    }
   ],
   "source": [
    "# Call function to display ROC visualization\n",
    "show_roc_auc('LogisticRegression', y_test, pred_lr)"
   ]
  },
  {
   "cell_type": "markdown",
   "metadata": {},
   "source": [
    "### Gradient Boosting"
   ]
  },
  {
   "cell_type": "code",
   "execution_count": 30,
   "metadata": {},
   "outputs": [],
   "source": [
    "# instantiate the classifier object\n",
    "gb_clf = GradientBoostingClassifier()\n",
    "\n",
    "# Minimum number of samples required to split a node\n",
    "min_split_samples = [2, 5, 8, 11]\n",
    "\n",
    "# Minimum number of samples required at each leaf node\n",
    "min_samples_leaf = [1, 2, 4, 6, 8]\n",
    "\n",
    "# Create the random grid\n",
    "gb_random_grid = {'loss': ['deviance', 'exponential'],\n",
    "                   'learning_rate': [0.1, 0.01, 0.001],\n",
    "                   'n_estimators': [10, 30, 50, 100, 150, 200, 250, 300, 350],\n",
    "                   'min_samples_leaf': min_samples_leaf,\n",
    "                   'min_samples_split': min_split_samples}"
   ]
  },
  {
   "cell_type": "code",
   "execution_count": 31,
   "metadata": {},
   "outputs": [
    {
     "name": "stdout",
     "output_type": "stream",
     "text": [
      "Fitting 3 folds for each of 12 candidates, totalling 36 fits\n"
     ]
    },
    {
     "name": "stderr",
     "output_type": "stream",
     "text": [
      "[Parallel(n_jobs=3)]: Using backend LokyBackend with 3 concurrent workers.\n",
      "[Parallel(n_jobs=3)]: Done  36 out of  36 | elapsed:  1.3min finished\n"
     ]
    }
   ],
   "source": [
    "# Call function to build the model\n",
    "gboost_random = build_model(gb_clf, gb_random_grid, scorer, X_train, y_train)"
   ]
  },
  {
   "cell_type": "code",
   "execution_count": 32,
   "metadata": {},
   "outputs": [
    {
     "data": {
      "text/plain": [
       "GradientBoostingClassifier(ccp_alpha=0.0, criterion='friedman_mse', init=None,\n",
       "                           learning_rate=0.01, loss='exponential', max_depth=3,\n",
       "                           max_features=None, max_leaf_nodes=None,\n",
       "                           min_impurity_decrease=0.0, min_impurity_split=None,\n",
       "                           min_samples_leaf=1, min_samples_split=2,\n",
       "                           min_weight_fraction_leaf=0.0, n_estimators=350,\n",
       "                           n_iter_no_change=None, presort='deprecated',\n",
       "                           random_state=None, subsample=1.0, tol=0.0001,\n",
       "                           validation_fraction=0.1, verbose=0,\n",
       "                           warm_start=False)"
      ]
     },
     "execution_count": 32,
     "metadata": {},
     "output_type": "execute_result"
    }
   ],
   "source": [
    "# Show the best model estimator\n",
    "gboost_random.best_estimator_"
   ]
  },
  {
   "cell_type": "code",
   "execution_count": 33,
   "metadata": {},
   "outputs": [
    {
     "name": "stdout",
     "output_type": "stream",
     "text": [
      "GradientBoostingClassifier model accuracy: 0.727\n",
      "GradientBoostingClassifier model f1-score: 0.725\n",
      "GradientBoostingClassifier model precision: 0.691\n",
      "GradientBoostingClassifier model recall: 0.763\n"
     ]
    },
    {
     "data": {
      "image/png": "[encoded data removed]",
      "text/plain": [
       "<Figure size 432x288 with 2 Axes>"
      ]
     },
     "metadata": {
      "needs_background": "light"
     },
     "output_type": "display_data"
    }
   ],
   "source": [
    "# evaluate random forest classifier model's performance\n",
    "x, y, pred_gb = show_model_metrics(gboost_random.best_estimator_, X_test, y_test)"
   ]
  },
  {
   "cell_type": "code",
   "execution_count": 34,
   "metadata": {},
   "outputs": [
    {
     "data": {
      "image/png": "[encoded data removed]",
      "text/plain": [
       "<Figure size 432x288 with 1 Axes>"
      ]
     },
     "metadata": {
      "needs_background": "light"
     },
     "output_type": "display_data"
    }
   ],
   "source": [
    "# Call function to display ROC visualization\n",
    "show_roc_auc('GradientBoosting', y_test, pred_gb)"
   ]
  },
  {
   "cell_type": "markdown",
   "metadata": {},
   "source": [
    "### Random Forest"
   ]
  },
  {
   "cell_type": "code",
   "execution_count": 35,
   "metadata": {},
   "outputs": [],
   "source": [
    "# instantiate a random forest classifier\n",
    "rf_clf = RandomForestClassifier(random_state=42)\n",
    "\n",
    "# Number of trees in random forest\n",
    "n_estimators = [10, 50, 100, 150, 200, 250, 300, 350, 500, 1000]\n",
    "\n",
    "# Number of features to consider at every split\n",
    "max_features = ['auto', 'sqrt']\n",
    "\n",
    "# Maximum number of levels in tree\n",
    "max_depth = [int(x) for x in np.arange(3, 13)]\n",
    "max_depth.append(None)\n",
    "\n",
    "# Minimum number of samples required to split a node\n",
    "min_split_samples = [2, 5, 8]\n",
    "\n",
    "# Minimum number of samples required at each leaf node\n",
    "min_samples_leaf = [1, 2, 4]\n",
    "\n",
    "# Create the random grid\n",
    "random_grid_params = {'n_estimators': n_estimators,\n",
    "               'max_features': max_features,\n",
    "               'max_depth': max_depth,\n",
    "               'min_samples_split': min_split_samples,\n",
    "               'min_samples_leaf': min_samples_leaf}"
   ]
  },
  {
   "cell_type": "code",
   "execution_count": 36,
   "metadata": {},
   "outputs": [
    {
     "name": "stdout",
     "output_type": "stream",
     "text": [
      "Fitting 3 folds for each of 12 candidates, totalling 36 fits\n"
     ]
    },
    {
     "name": "stderr",
     "output_type": "stream",
     "text": [
      "[Parallel(n_jobs=3)]: Using backend LokyBackend with 3 concurrent workers.\n",
      "[Parallel(n_jobs=3)]: Done  36 out of  36 | elapsed:  1.0min finished\n"
     ]
    }
   ],
   "source": [
    "# Call function to build the model\n",
    "rf_random = build_model(rf_clf, random_grid_params, scorer, X_train, y_train)"
   ]
  },
  {
   "cell_type": "code",
   "execution_count": 37,
   "metadata": {},
   "outputs": [
    {
     "data": {
      "text/plain": [
       "{'n_estimators': 500,\n",
       " 'min_samples_split': 5,\n",
       " 'min_samples_leaf': 1,\n",
       " 'max_features': 'auto',\n",
       " 'max_depth': 12}"
      ]
     },
     "execution_count": 37,
     "metadata": {},
     "output_type": "execute_result"
    }
   ],
   "source": [
    "rf_random.best_params_"
   ]
  },
  {
   "cell_type": "code",
   "execution_count": 38,
   "metadata": {
    "scrolled": true
   },
   "outputs": [
    {
     "data": {
      "text/plain": [
       "RandomForestClassifier(bootstrap=True, ccp_alpha=0.0, class_weight=None,\n",
       "                       criterion='gini', max_depth=12, max_features='auto',\n",
       "                       max_leaf_nodes=None, max_samples=None,\n",
       "                       min_impurity_decrease=0.0, min_impurity_split=None,\n",
       "                       min_samples_leaf=1, min_samples_split=5,\n",
       "                       min_weight_fraction_leaf=0.0, n_estimators=500,\n",
       "                       n_jobs=None, oob_score=False, random_state=42, verbose=0,\n",
       "                       warm_start=False)"
      ]
     },
     "execution_count": 38,
     "metadata": {},
     "output_type": "execute_result"
    }
   ],
   "source": [
    "# Show the best model estimator\n",
    "rf_random.best_estimator_"
   ]
  },
  {
   "cell_type": "code",
   "execution_count": 39,
   "metadata": {},
   "outputs": [
    {
     "name": "stdout",
     "output_type": "stream",
     "text": [
      "RandomForestClassifier model accuracy: 0.735\n",
      "RandomForestClassifier model f1-score: 0.729\n",
      "RandomForestClassifier model precision: 0.706\n",
      "RandomForestClassifier model recall: 0.753\n"
     ]
    },
    {
     "data": {
      "image/png": "[encoded data removed]",
      "text/plain": [
       "<Figure size 432x288 with 2 Axes>"
      ]
     },
     "metadata": {
      "needs_background": "light"
     },
     "output_type": "display_data"
    }
   ],
   "source": [
    "# evaluate random forest classifier model's performance\n",
    "x, y, pred_rf = show_model_metrics(rf_random.best_estimator_, X_test, y_test)"
   ]
  },
  {
   "cell_type": "code",
   "execution_count": 40,
   "metadata": {},
   "outputs": [],
   "source": [
    "# Calculate the best features according to importance on RandomForest classifier\n",
    "relative_importance = rf_random.best_estimator_.feature_importances_\n",
    "relative_importance = relative_importance / np.sum(relative_importance)\n",
    "\n",
    "feature_importance =\\\n",
    "    pd.DataFrame(list(zip(features,\n",
    "                          relative_importance)),\n",
    "                 columns=['feature', 'relativeimportance'])\n",
    "\n",
    "feature_importance = feature_importance.sort_values('relativeimportance',\n",
    "                                                    ascending=False)\n",
    "\n",
    "feature_importance = feature_importance.reset_index(drop=True)\n",
    "\n",
    "palette = sns.color_palette(\"Blues_r\", feature_importance.shape[0])"
   ]
  },
  {
   "cell_type": "code",
   "execution_count": 41,
   "metadata": {},
   "outputs": [
    {
     "data": {
      "text/plain": [
       "Text(0.5, 1.0, 'Random Forest Estimated Feature Importance')"
      ]
     },
     "execution_count": 41,
     "metadata": {},
     "output_type": "execute_result"
    },
    {
     "data": {
      "image/png": "[encoded data removed]",
      "text/plain": [
       "<Figure size 576x576 with 1 Axes>"
      ]
     },
     "metadata": {
      "needs_background": "light"
     },
     "output_type": "display_data"
    }
   ],
   "source": [
    "# Show estimated feature importance plot\n",
    "plt.figure(figsize=(8, 8))\n",
    "sns.barplot(x='relativeimportance',\n",
    "            y='feature',\n",
    "            data=feature_importance,\n",
    "            palette=palette)\n",
    "plt.xlabel('Relative Importance')\n",
    "plt.ylabel('Feature')\n",
    "plt.title('Random Forest Estimated Feature Importance')"
   ]
  },
  {
   "cell_type": "code",
   "execution_count": 42,
   "metadata": {},
   "outputs": [
    {
     "data": {
      "image/png": "[encoded data removed]",
      "text/plain": [
       "<Figure size 432x288 with 1 Axes>"
      ]
     },
     "metadata": {
      "needs_background": "light"
     },
     "output_type": "display_data"
    }
   ],
   "source": [
    "# Call function to display ROC visualization\n",
    "show_roc_auc('RandomForest', y_test, pred_rf)"
   ]
  },
  {
   "cell_type": "markdown",
   "metadata": {},
   "source": [
    "## Compare models and performance evaluation"
   ]
  },
  {
   "cell_type": "markdown",
   "metadata": {},
   "source": [
    "The motivation in this section is compare all three models and their performance in terms of accuraccy, f1score and AUC-ROC curve comparison."
   ]
  },
  {
   "cell_type": "code",
   "execution_count": 43,
   "metadata": {},
   "outputs": [
    {
     "data": {
      "text/html": [
       "<div>\n",
       "<style scoped>\n",
       "    .dataframe tbody tr th:only-of-type {\n",
       "        vertical-align: middle;\n",
       "    }\n",
       "\n",
       "    .dataframe tbody tr th {\n",
       "        vertical-align: top;\n",
       "    }\n",
       "\n",
       "    .dataframe thead th {\n",
       "        text-align: right;\n",
       "    }\n",
       "</style>\n",
       "<table border=\"1\" class=\"dataframe\">\n",
       "  <thead>\n",
       "    <tr style=\"text-align: right;\">\n",
       "      <th></th>\n",
       "      <th>model</th>\n",
       "      <th>accuracy</th>\n",
       "      <th>f1score</th>\n",
       "    </tr>\n",
       "  </thead>\n",
       "  <tbody>\n",
       "    <tr>\n",
       "      <th>0</th>\n",
       "      <td>random_forest</td>\n",
       "      <td>0.734901</td>\n",
       "      <td>0.728672</td>\n",
       "    </tr>\n",
       "    <tr>\n",
       "      <th>1</th>\n",
       "      <td>gradient_boosting</td>\n",
       "      <td>0.726781</td>\n",
       "      <td>0.725321</td>\n",
       "    </tr>\n",
       "    <tr>\n",
       "      <th>2</th>\n",
       "      <td>logistic_regression</td>\n",
       "      <td>0.698912</td>\n",
       "      <td>0.694720</td>\n",
       "    </tr>\n",
       "  </tbody>\n",
       "</table>\n",
       "</div>"
      ],
      "text/plain": [
       "                 model  accuracy   f1score\n",
       "0        random_forest  0.734901  0.728672\n",
       "1    gradient_boosting  0.726781  0.725321\n",
       "2  logistic_regression  0.698912  0.694720"
      ]
     },
     "execution_count": 43,
     "metadata": {},
     "output_type": "execute_result"
    }
   ],
   "source": [
    "# Evaluate model performances\n",
    "model_performance = []\n",
    "\n",
    "classifier_type = ['logistic_regression',\n",
    "                   'gradient_boosting',\n",
    "                   'random_forest']\n",
    "\n",
    "\n",
    "model_performance.append(show_model_metrics(log_reg_random.best_estimator_,\n",
    "                                                    X_test,\n",
    "                                                    y_test, full_outcome = False)[:2])\n",
    "\n",
    "model_performance.append(show_model_metrics(gboost_random.best_estimator_,\n",
    "                                                    X_test,\n",
    "                                                    y_test, full_outcome = False)[:2])\n",
    "\n",
    "model_performance.append(show_model_metrics(rf_random.best_estimator_,\n",
    "                                                    X_test,\n",
    "                                                    y_test, full_outcome = False)[:2])\n",
    "\n",
    "#model_performance.append(show_model_metrics(svm_random.best_estimator_,\n",
    "                                                    #X_test,\n",
    "                                                    #y_test, full_outcome = False)[:2])\n",
    "\n",
    "model_performance = pd.DataFrame(model_performance,\n",
    "                                 columns=['accuracy', 'f1score'])\n",
    "\n",
    "classifier_type = pd.DataFrame(classifier_type,\n",
    "                               columns=['model'])\n",
    "\n",
    "\n",
    "model_performance = pd.concat([classifier_type, model_performance],\n",
    "                              axis=1)\n",
    "\n",
    "model_performance = model_performance.sort_values('accuracy', ascending=False)\n",
    "model_performance = model_performance.reset_index(drop=True)\n",
    "\n",
    "# Show model performance table\n",
    "model_performance"
   ]
  },
  {
   "cell_type": "code",
   "execution_count": 44,
   "metadata": {},
   "outputs": [
    {
     "data": {
      "text/plain": [
       "<AxesSubplot:title={'center':'Classifier AUC'}, xlabel='AUC', ylabel='Model'>"
      ]
     },
     "execution_count": 44,
     "metadata": {},
     "output_type": "execute_result"
    },
    {
     "data": {
      "image/png": "[encoded data removed]",
      "text/plain": [
       "<Figure size 432x288 with 1 Axes>"
      ]
     },
     "metadata": {
      "needs_background": "light"
     },
     "output_type": "display_data"
    }
   ],
   "source": [
    "# Show classifier AUC performance comparison\n",
    "perf = pd.DataFrame.from_dict(performance_auc, orient='index')\n",
    "perf['Model'] = perf.index\n",
    "perf['AUC'] = perf[0]\n",
    "plt.xlabel('AUC')\n",
    "plt.title('Classifier AUC')\n",
    "sns.set_color_codes(\"muted\")\n",
    "sns.barplot(x='AUC', y='Model', data=perf, color=\"b\")"
   ]
  },
  {
   "cell_type": "markdown",
   "metadata": {},
   "source": [
    "## Conclusions"
   ]
  },
  {
   "cell_type": "markdown",
   "metadata": {},
   "source": [
    "After build and evaluate the three different models, Random Forest has the best performance and metrics for our data with the best accuracy (0.734), f1score(0.729), precission (0.703) and recall (0.757) . Second Gradient Boosting and finnaly Logistic Regression.\n",
    "\n",
    "Theses performances could be improved by tunning parameters in future phases. It is important when we building models avoid overfitting, too. Also maybe an interesting practice in this notebook testing with other classification algorithms like SVM or K-NN for instance and add them to the general comparison.\n",
    "\n",
    "ROC-AUC curve have been used to compare the different classification models: *\n",
    "\n",
    "An ROC curve (receiver operating characteristic curve) is a graph showing the performance of a classification model at all classification thresholds. This curve plots two parameters:\n",
    "\n",
    "- True Positive Rate\n",
    "- False Positive Rate\n",
    "\n",
    "**True Positive Rate (TPR)** is a synonym for recall and is therefore defined as follows: \n",
    "\n",
    "**TPR = TP / TP+FN**\n",
    "\n",
    "**False Positive Rate (FPR)** is defined as follows:\n",
    "\n",
    "**FPR = FP / FP+TN**\n",
    "\n",
    "An ROC curve plots TPR vs. FPR at different classification thresholds. Lowering the classification threshold classifies more items as positive, thus increasing both False Positives and True Positives. \n",
    "\n",
    "*https://developers.google.com/machine-learning/crash-course/classification/roc-and-auc"
   ]
  }
 ],
 "metadata": {
  "kernelspec": {
   "display_name": "Python 3",
   "language": "python",
   "name": "python3"
  },
  "language_info": {
   "codemirror_mode": {
    "name": "ipython",
    "version": 3
   },
   "file_extension": ".py",
   "mimetype": "text/x-python",
   "name": "python",
   "nbconvert_exporter": "python",
   "pygments_lexer": "ipython3",
   "version": "3.7.3"
  }
 },
 "nbformat": 4,
 "nbformat_minor": 4
}
